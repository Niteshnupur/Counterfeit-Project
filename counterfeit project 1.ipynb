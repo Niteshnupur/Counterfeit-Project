{
 "cells": [
  {
   "cell_type": "code",
   "execution_count": 44,
   "metadata": {},
   "outputs": [],
   "source": [
    "import pandas as pd\n",
    "import numpy as np\n",
    "import re\n",
    "import datetime\n",
    "from dateutil.relativedelta import relativedelta\n",
    "from datetime import date\n",
    "from sklearn.model_selection import train_test_split\n",
    "from sklearn.ensemble import RandomForestClassifier\n",
    "from sklearn.linear_model import LogisticRegression\n",
    "from sklearn.metrics import roc_auc_score\n",
    "from sklearn.model_selection import RandomizedSearchCV\n",
    "from sklearn.model_selection import GridSearchCV\n",
    "from sklearn.model_selection import StratifiedShuffleSplit\n",
    "from sklearn.svm import SVC\n",
    "from sklearn.neural_network import MLPClassifier\n",
    "from sklearn.metrics import confusion_matrix, classification_report\n",
    "from sklearn.model_selection import train_test_split\n",
    "from sklearn.preprocessing import StandardScaler, LabelEncoder\n",
    "%matplotlib inline"
   ]
  },
  {
   "cell_type": "code",
   "execution_count": 45,
   "metadata": {},
   "outputs": [],
   "source": [
    "file1 = r\"C:\\Users\\Mr. Jarvis\\Desktop\\python project\\project 3\\counterfeit_train.csv\""
   ]
  },
  {
   "cell_type": "code",
   "execution_count": 46,
   "metadata": {},
   "outputs": [
    {
     "data": {
      "text/plain": [
       "'C:\\\\Users\\\\Mr. Jarvis\\\\Desktop\\\\python project\\\\project 3\\\\counterfeit_test.csv'"
      ]
     },
     "execution_count": 46,
     "metadata": {},
     "output_type": "execute_result"
    }
   ],
   "source": [
    "file"
   ]
  },
  {
   "cell_type": "code",
   "execution_count": 47,
   "metadata": {},
   "outputs": [],
   "source": [
    "file2 = r\"C:\\Users\\Mr. Jarvis\\Desktop\\python project\\project 3\\counterfeit_test.csv\""
   ]
  },
  {
   "cell_type": "code",
   "execution_count": 48,
   "metadata": {},
   "outputs": [
    {
     "data": {
      "text/plain": [
       "'C:\\\\Users\\\\Mr. Jarvis\\\\Desktop\\\\python project\\\\project 3\\\\counterfeit_test.csv'"
      ]
     },
     "execution_count": 48,
     "metadata": {},
     "output_type": "execute_result"
    }
   ],
   "source": [
    "file2"
   ]
  },
  {
   "cell_type": "code",
   "execution_count": 49,
   "metadata": {},
   "outputs": [],
   "source": [
    "train = pd.read_csv(file1)"
   ]
  },
  {
   "cell_type": "code",
   "execution_count": 50,
   "metadata": {},
   "outputs": [],
   "source": [
    "test = pd.read_csv(file2)"
   ]
  },
  {
   "cell_type": "code",
   "execution_count": 51,
   "metadata": {},
   "outputs": [
    {
     "data": {
      "text/plain": [
       "(6818, 12)"
      ]
     },
     "execution_count": 51,
     "metadata": {},
     "output_type": "execute_result"
    }
   ],
   "source": [
    "train.shape"
   ]
  },
  {
   "cell_type": "code",
   "execution_count": 52,
   "metadata": {},
   "outputs": [
    {
     "data": {
      "text/plain": [
       "(1705, 11)"
      ]
     },
     "execution_count": 52,
     "metadata": {},
     "output_type": "execute_result"
    }
   ],
   "source": [
    "test.shape"
   ]
  },
  {
   "cell_type": "code",
   "execution_count": 53,
   "metadata": {},
   "outputs": [
    {
     "data": {
      "text/html": [
       "<div>\n",
       "<style scoped>\n",
       "    .dataframe tbody tr th:only-of-type {\n",
       "        vertical-align: middle;\n",
       "    }\n",
       "\n",
       "    .dataframe tbody tr th {\n",
       "        vertical-align: top;\n",
       "    }\n",
       "\n",
       "    .dataframe thead th {\n",
       "        text-align: right;\n",
       "    }\n",
       "</style>\n",
       "<table border=\"1\" class=\"dataframe\">\n",
       "  <thead>\n",
       "    <tr style=\"text-align: right;\">\n",
       "      <th></th>\n",
       "      <th>Medicine_ID</th>\n",
       "      <th>Counterfeit_Weight</th>\n",
       "      <th>DistArea_ID</th>\n",
       "      <th>Active_Since</th>\n",
       "      <th>Medicine_MRP</th>\n",
       "      <th>Medicine_Type</th>\n",
       "      <th>SidEffect_Level</th>\n",
       "      <th>Availability_rating</th>\n",
       "      <th>Area_Type</th>\n",
       "      <th>Area_City_Type</th>\n",
       "      <th>Area_dist_level</th>\n",
       "      <th>Counterfeit_Sales</th>\n",
       "    </tr>\n",
       "  </thead>\n",
       "  <tbody>\n",
       "    <tr>\n",
       "      <td>0</td>\n",
       "      <td>RRA15</td>\n",
       "      <td>13.100</td>\n",
       "      <td>Area046</td>\n",
       "      <td>1995</td>\n",
       "      <td>160.2366</td>\n",
       "      <td>Antimalarial</td>\n",
       "      <td>critical</td>\n",
       "      <td>0.070422</td>\n",
       "      <td>DownTown</td>\n",
       "      <td>Tier 1</td>\n",
       "      <td>Small</td>\n",
       "      <td>1775.5026</td>\n",
       "    </tr>\n",
       "    <tr>\n",
       "      <td>1</td>\n",
       "      <td>YVV26</td>\n",
       "      <td>NaN</td>\n",
       "      <td>Area027</td>\n",
       "      <td>1983</td>\n",
       "      <td>110.4384</td>\n",
       "      <td>Mstablizers</td>\n",
       "      <td>mild</td>\n",
       "      <td>0.013000</td>\n",
       "      <td>CityLimits</td>\n",
       "      <td>Tier 3</td>\n",
       "      <td>Medium</td>\n",
       "      <td>3069.1520</td>\n",
       "    </tr>\n",
       "    <tr>\n",
       "      <td>2</td>\n",
       "      <td>LJC15</td>\n",
       "      <td>9.025</td>\n",
       "      <td>Area046</td>\n",
       "      <td>1995</td>\n",
       "      <td>259.4092</td>\n",
       "      <td>Cardiac</td>\n",
       "      <td>mild</td>\n",
       "      <td>0.060783</td>\n",
       "      <td>DownTown</td>\n",
       "      <td>Tier 1</td>\n",
       "      <td>Small</td>\n",
       "      <td>2603.0920</td>\n",
       "    </tr>\n",
       "    <tr>\n",
       "      <td>3</td>\n",
       "      <td>GWC40</td>\n",
       "      <td>11.800</td>\n",
       "      <td>Area046</td>\n",
       "      <td>1995</td>\n",
       "      <td>99.9830</td>\n",
       "      <td>OralContraceptives</td>\n",
       "      <td>mild</td>\n",
       "      <td>0.065555</td>\n",
       "      <td>DownTown</td>\n",
       "      <td>Tier 1</td>\n",
       "      <td>Small</td>\n",
       "      <td>1101.7130</td>\n",
       "    </tr>\n",
       "    <tr>\n",
       "      <td>4</td>\n",
       "      <td>QMN13</td>\n",
       "      <td>NaN</td>\n",
       "      <td>Area019</td>\n",
       "      <td>1983</td>\n",
       "      <td>56.4402</td>\n",
       "      <td>Hreplacements</td>\n",
       "      <td>critical</td>\n",
       "      <td>0.248859</td>\n",
       "      <td>MidTownResidential</td>\n",
       "      <td>Tier 1</td>\n",
       "      <td>Small</td>\n",
       "      <td>158.9402</td>\n",
       "    </tr>\n",
       "  </tbody>\n",
       "</table>\n",
       "</div>"
      ],
      "text/plain": [
       "  Medicine_ID  Counterfeit_Weight DistArea_ID  Active_Since  Medicine_MRP  \\\n",
       "0       RRA15              13.100     Area046          1995      160.2366   \n",
       "1       YVV26                 NaN     Area027          1983      110.4384   \n",
       "2       LJC15               9.025     Area046          1995      259.4092   \n",
       "3       GWC40              11.800     Area046          1995       99.9830   \n",
       "4       QMN13                 NaN     Area019          1983       56.4402   \n",
       "\n",
       "        Medicine_Type SidEffect_Level  Availability_rating  \\\n",
       "0        Antimalarial        critical             0.070422   \n",
       "1         Mstablizers            mild             0.013000   \n",
       "2             Cardiac            mild             0.060783   \n",
       "3  OralContraceptives            mild             0.065555   \n",
       "4       Hreplacements        critical             0.248859   \n",
       "\n",
       "            Area_Type Area_City_Type Area_dist_level  Counterfeit_Sales  \n",
       "0            DownTown         Tier 1           Small          1775.5026  \n",
       "1          CityLimits         Tier 3          Medium          3069.1520  \n",
       "2            DownTown         Tier 1           Small          2603.0920  \n",
       "3            DownTown         Tier 1           Small          1101.7130  \n",
       "4  MidTownResidential         Tier 1           Small           158.9402  "
      ]
     },
     "execution_count": 53,
     "metadata": {},
     "output_type": "execute_result"
    }
   ],
   "source": [
    "train.head()"
   ]
  },
  {
   "cell_type": "code",
   "execution_count": 54,
   "metadata": {},
   "outputs": [
    {
     "data": {
      "text/html": [
       "<div>\n",
       "<style scoped>\n",
       "    .dataframe tbody tr th:only-of-type {\n",
       "        vertical-align: middle;\n",
       "    }\n",
       "\n",
       "    .dataframe tbody tr th {\n",
       "        vertical-align: top;\n",
       "    }\n",
       "\n",
       "    .dataframe thead th {\n",
       "        text-align: right;\n",
       "    }\n",
       "</style>\n",
       "<table border=\"1\" class=\"dataframe\">\n",
       "  <thead>\n",
       "    <tr style=\"text-align: right;\">\n",
       "      <th></th>\n",
       "      <th>Medicine_ID</th>\n",
       "      <th>Counterfeit_Weight</th>\n",
       "      <th>DistArea_ID</th>\n",
       "      <th>Active_Since</th>\n",
       "      <th>Medicine_MRP</th>\n",
       "      <th>Medicine_Type</th>\n",
       "      <th>SidEffect_Level</th>\n",
       "      <th>Availability_rating</th>\n",
       "      <th>Area_Type</th>\n",
       "      <th>Area_City_Type</th>\n",
       "      <th>Area_dist_level</th>\n",
       "    </tr>\n",
       "  </thead>\n",
       "  <tbody>\n",
       "    <tr>\n",
       "      <td>0</td>\n",
       "      <td>HLZ81</td>\n",
       "      <td>NaN</td>\n",
       "      <td>Area027</td>\n",
       "      <td>1983</td>\n",
       "      <td>85.5328</td>\n",
       "      <td>Antibiotics</td>\n",
       "      <td>mild</td>\n",
       "      <td>0.112747</td>\n",
       "      <td>CityLimits</td>\n",
       "      <td>Tier 3</td>\n",
       "      <td>Medium</td>\n",
       "    </tr>\n",
       "    <tr>\n",
       "      <td>1</td>\n",
       "      <td>ECE94</td>\n",
       "      <td>13.45</td>\n",
       "      <td>Area045</td>\n",
       "      <td>2000</td>\n",
       "      <td>257.1460</td>\n",
       "      <td>OralContraceptives</td>\n",
       "      <td>mild</td>\n",
       "      <td>0.144446</td>\n",
       "      <td>DownTown</td>\n",
       "      <td>Tier 2</td>\n",
       "      <td>Unknown</td>\n",
       "    </tr>\n",
       "    <tr>\n",
       "      <td>2</td>\n",
       "      <td>SAD14</td>\n",
       "      <td>7.10</td>\n",
       "      <td>Area045</td>\n",
       "      <td>2000</td>\n",
       "      <td>98.1172</td>\n",
       "      <td>Antipyretics</td>\n",
       "      <td>mild</td>\n",
       "      <td>0.144221</td>\n",
       "      <td>DownTown</td>\n",
       "      <td>Tier 2</td>\n",
       "      <td>Unknown</td>\n",
       "    </tr>\n",
       "    <tr>\n",
       "      <td>3</td>\n",
       "      <td>EQV63</td>\n",
       "      <td>18.30</td>\n",
       "      <td>Area010</td>\n",
       "      <td>1996</td>\n",
       "      <td>135.3730</td>\n",
       "      <td>Tranquilizers</td>\n",
       "      <td>mild</td>\n",
       "      <td>0.100388</td>\n",
       "      <td>MidTownResidential</td>\n",
       "      <td>Tier 3</td>\n",
       "      <td>Unknown</td>\n",
       "    </tr>\n",
       "    <tr>\n",
       "      <td>4</td>\n",
       "      <td>AIR10</td>\n",
       "      <td>NaN</td>\n",
       "      <td>Area019</td>\n",
       "      <td>1983</td>\n",
       "      <td>112.8016</td>\n",
       "      <td>OralContraceptives</td>\n",
       "      <td>mild</td>\n",
       "      <td>0.022585</td>\n",
       "      <td>MidTownResidential</td>\n",
       "      <td>Tier 1</td>\n",
       "      <td>Small</td>\n",
       "    </tr>\n",
       "  </tbody>\n",
       "</table>\n",
       "</div>"
      ],
      "text/plain": [
       "  Medicine_ID  Counterfeit_Weight DistArea_ID  Active_Since  Medicine_MRP  \\\n",
       "0       HLZ81                 NaN     Area027          1983       85.5328   \n",
       "1       ECE94               13.45     Area045          2000      257.1460   \n",
       "2       SAD14                7.10     Area045          2000       98.1172   \n",
       "3       EQV63               18.30     Area010          1996      135.3730   \n",
       "4       AIR10                 NaN     Area019          1983      112.8016   \n",
       "\n",
       "        Medicine_Type SidEffect_Level  Availability_rating  \\\n",
       "0         Antibiotics            mild             0.112747   \n",
       "1  OralContraceptives            mild             0.144446   \n",
       "2        Antipyretics            mild             0.144221   \n",
       "3       Tranquilizers            mild             0.100388   \n",
       "4  OralContraceptives            mild             0.022585   \n",
       "\n",
       "            Area_Type Area_City_Type Area_dist_level  \n",
       "0          CityLimits         Tier 3          Medium  \n",
       "1            DownTown         Tier 2         Unknown  \n",
       "2            DownTown         Tier 2         Unknown  \n",
       "3  MidTownResidential         Tier 3         Unknown  \n",
       "4  MidTownResidential         Tier 1           Small  "
      ]
     },
     "execution_count": 54,
     "metadata": {},
     "output_type": "execute_result"
    }
   ],
   "source": [
    "test.head()"
   ]
  },
  {
   "cell_type": "code",
   "execution_count": 55,
   "metadata": {},
   "outputs": [
    {
     "data": {
      "text/plain": [
       "Medicine_ID             object\n",
       "Counterfeit_Weight     float64\n",
       "DistArea_ID             object\n",
       "Active_Since             int64\n",
       "Medicine_MRP           float64\n",
       "Medicine_Type           object\n",
       "SidEffect_Level         object\n",
       "Availability_rating    float64\n",
       "Area_Type               object\n",
       "Area_City_Type          object\n",
       "Area_dist_level         object\n",
       "Counterfeit_Sales      float64\n",
       "dtype: object"
      ]
     },
     "execution_count": 55,
     "metadata": {},
     "output_type": "execute_result"
    }
   ],
   "source": [
    "train.dtypes"
   ]
  },
  {
   "cell_type": "code",
   "execution_count": 56,
   "metadata": {},
   "outputs": [
    {
     "data": {
      "text/plain": [
       "Medicine_ID             object\n",
       "Counterfeit_Weight     float64\n",
       "DistArea_ID             object\n",
       "Active_Since             int64\n",
       "Medicine_MRP           float64\n",
       "Medicine_Type           object\n",
       "SidEffect_Level         object\n",
       "Availability_rating    float64\n",
       "Area_Type               object\n",
       "Area_City_Type          object\n",
       "Area_dist_level         object\n",
       "dtype: object"
      ]
     },
     "execution_count": 56,
     "metadata": {},
     "output_type": "execute_result"
    }
   ],
   "source": [
    "test.dtypes"
   ]
  },
  {
   "cell_type": "code",
   "execution_count": 57,
   "metadata": {},
   "outputs": [
    {
     "data": {
      "text/plain": [
       "Medicine_ID               0\n",
       "Counterfeit_Weight     1166\n",
       "DistArea_ID               0\n",
       "Active_Since              0\n",
       "Medicine_MRP              0\n",
       "Medicine_Type             0\n",
       "SidEffect_Level           0\n",
       "Availability_rating       0\n",
       "Area_Type                 0\n",
       "Area_City_Type            0\n",
       "Area_dist_level           0\n",
       "Counterfeit_Sales         0\n",
       "dtype: int64"
      ]
     },
     "execution_count": 57,
     "metadata": {},
     "output_type": "execute_result"
    }
   ],
   "source": [
    "train.isnull().sum()"
   ]
  },
  {
   "cell_type": "code",
   "execution_count": 58,
   "metadata": {},
   "outputs": [
    {
     "data": {
      "text/plain": [
       "Medicine_ID              0\n",
       "Counterfeit_Weight     297\n",
       "DistArea_ID              0\n",
       "Active_Since             0\n",
       "Medicine_MRP             0\n",
       "Medicine_Type            0\n",
       "SidEffect_Level          0\n",
       "Availability_rating      0\n",
       "Area_Type                0\n",
       "Area_City_Type           0\n",
       "Area_dist_level          0\n",
       "dtype: int64"
      ]
     },
     "execution_count": 58,
     "metadata": {},
     "output_type": "execute_result"
    }
   ],
   "source": [
    "test.isnull().sum()"
   ]
  },
  {
   "cell_type": "code",
   "execution_count": 59,
   "metadata": {},
   "outputs": [],
   "source": [
    "test['Counterfeit_Sales']=np.nan\n",
    "test['data']='test'\n",
    "train['data']='train'"
   ]
  },
  {
   "cell_type": "code",
   "execution_count": 60,
   "metadata": {},
   "outputs": [
    {
     "data": {
      "text/plain": [
       "(6818, 13)"
      ]
     },
     "execution_count": 60,
     "metadata": {},
     "output_type": "execute_result"
    }
   ],
   "source": [
    "train.shape"
   ]
  },
  {
   "cell_type": "code",
   "execution_count": 61,
   "metadata": {},
   "outputs": [
    {
     "data": {
      "text/plain": [
       "(1705, 13)"
      ]
     },
     "execution_count": 61,
     "metadata": {},
     "output_type": "execute_result"
    }
   ],
   "source": [
    "test.shape"
   ]
  },
  {
   "cell_type": "code",
   "execution_count": 62,
   "metadata": {},
   "outputs": [],
   "source": [
    "all_data = pd.concat([train,test], axis=0)"
   ]
  },
  {
   "cell_type": "code",
   "execution_count": 63,
   "metadata": {},
   "outputs": [
    {
     "data": {
      "text/html": [
       "<div>\n",
       "<style scoped>\n",
       "    .dataframe tbody tr th:only-of-type {\n",
       "        vertical-align: middle;\n",
       "    }\n",
       "\n",
       "    .dataframe tbody tr th {\n",
       "        vertical-align: top;\n",
       "    }\n",
       "\n",
       "    .dataframe thead th {\n",
       "        text-align: right;\n",
       "    }\n",
       "</style>\n",
       "<table border=\"1\" class=\"dataframe\">\n",
       "  <thead>\n",
       "    <tr style=\"text-align: right;\">\n",
       "      <th></th>\n",
       "      <th>Medicine_ID</th>\n",
       "      <th>Counterfeit_Weight</th>\n",
       "      <th>DistArea_ID</th>\n",
       "      <th>Active_Since</th>\n",
       "      <th>Medicine_MRP</th>\n",
       "      <th>Medicine_Type</th>\n",
       "      <th>SidEffect_Level</th>\n",
       "      <th>Availability_rating</th>\n",
       "      <th>Area_Type</th>\n",
       "      <th>Area_City_Type</th>\n",
       "      <th>Area_dist_level</th>\n",
       "      <th>Counterfeit_Sales</th>\n",
       "      <th>data</th>\n",
       "    </tr>\n",
       "  </thead>\n",
       "  <tbody>\n",
       "    <tr>\n",
       "      <td>0</td>\n",
       "      <td>RRA15</td>\n",
       "      <td>13.100</td>\n",
       "      <td>Area046</td>\n",
       "      <td>1995</td>\n",
       "      <td>160.2366</td>\n",
       "      <td>Antimalarial</td>\n",
       "      <td>critical</td>\n",
       "      <td>0.070422</td>\n",
       "      <td>DownTown</td>\n",
       "      <td>Tier 1</td>\n",
       "      <td>Small</td>\n",
       "      <td>1775.5026</td>\n",
       "      <td>train</td>\n",
       "    </tr>\n",
       "    <tr>\n",
       "      <td>1</td>\n",
       "      <td>YVV26</td>\n",
       "      <td>NaN</td>\n",
       "      <td>Area027</td>\n",
       "      <td>1983</td>\n",
       "      <td>110.4384</td>\n",
       "      <td>Mstablizers</td>\n",
       "      <td>mild</td>\n",
       "      <td>0.013000</td>\n",
       "      <td>CityLimits</td>\n",
       "      <td>Tier 3</td>\n",
       "      <td>Medium</td>\n",
       "      <td>3069.1520</td>\n",
       "      <td>train</td>\n",
       "    </tr>\n",
       "    <tr>\n",
       "      <td>2</td>\n",
       "      <td>LJC15</td>\n",
       "      <td>9.025</td>\n",
       "      <td>Area046</td>\n",
       "      <td>1995</td>\n",
       "      <td>259.4092</td>\n",
       "      <td>Cardiac</td>\n",
       "      <td>mild</td>\n",
       "      <td>0.060783</td>\n",
       "      <td>DownTown</td>\n",
       "      <td>Tier 1</td>\n",
       "      <td>Small</td>\n",
       "      <td>2603.0920</td>\n",
       "      <td>train</td>\n",
       "    </tr>\n",
       "    <tr>\n",
       "      <td>3</td>\n",
       "      <td>GWC40</td>\n",
       "      <td>11.800</td>\n",
       "      <td>Area046</td>\n",
       "      <td>1995</td>\n",
       "      <td>99.9830</td>\n",
       "      <td>OralContraceptives</td>\n",
       "      <td>mild</td>\n",
       "      <td>0.065555</td>\n",
       "      <td>DownTown</td>\n",
       "      <td>Tier 1</td>\n",
       "      <td>Small</td>\n",
       "      <td>1101.7130</td>\n",
       "      <td>train</td>\n",
       "    </tr>\n",
       "    <tr>\n",
       "      <td>4</td>\n",
       "      <td>QMN13</td>\n",
       "      <td>NaN</td>\n",
       "      <td>Area019</td>\n",
       "      <td>1983</td>\n",
       "      <td>56.4402</td>\n",
       "      <td>Hreplacements</td>\n",
       "      <td>critical</td>\n",
       "      <td>0.248859</td>\n",
       "      <td>MidTownResidential</td>\n",
       "      <td>Tier 1</td>\n",
       "      <td>Small</td>\n",
       "      <td>158.9402</td>\n",
       "      <td>train</td>\n",
       "    </tr>\n",
       "    <tr>\n",
       "      <td>...</td>\n",
       "      <td>...</td>\n",
       "      <td>...</td>\n",
       "      <td>...</td>\n",
       "      <td>...</td>\n",
       "      <td>...</td>\n",
       "      <td>...</td>\n",
       "      <td>...</td>\n",
       "      <td>...</td>\n",
       "      <td>...</td>\n",
       "      <td>...</td>\n",
       "      <td>...</td>\n",
       "      <td>...</td>\n",
       "      <td>...</td>\n",
       "    </tr>\n",
       "    <tr>\n",
       "      <td>1700</td>\n",
       "      <td>KXW10</td>\n",
       "      <td>NaN</td>\n",
       "      <td>Area027</td>\n",
       "      <td>1983</td>\n",
       "      <td>136.5704</td>\n",
       "      <td>Hreplacements</td>\n",
       "      <td>mild</td>\n",
       "      <td>0.050505</td>\n",
       "      <td>CityLimits</td>\n",
       "      <td>Tier 3</td>\n",
       "      <td>Medium</td>\n",
       "      <td>NaN</td>\n",
       "      <td>test</td>\n",
       "    </tr>\n",
       "    <tr>\n",
       "      <td>1701</td>\n",
       "      <td>CKE54</td>\n",
       "      <td>21.300</td>\n",
       "      <td>Area035</td>\n",
       "      <td>2002</td>\n",
       "      <td>57.0744</td>\n",
       "      <td>Antibiotics</td>\n",
       "      <td>critical</td>\n",
       "      <td>0.041118</td>\n",
       "      <td>DownTown</td>\n",
       "      <td>Tier 2</td>\n",
       "      <td>Small</td>\n",
       "      <td>NaN</td>\n",
       "      <td>test</td>\n",
       "    </tr>\n",
       "    <tr>\n",
       "      <td>1702</td>\n",
       "      <td>HAY13</td>\n",
       "      <td>20.400</td>\n",
       "      <td>Area017</td>\n",
       "      <td>2005</td>\n",
       "      <td>182.7422</td>\n",
       "      <td>Antiseptics</td>\n",
       "      <td>mild</td>\n",
       "      <td>0.191273</td>\n",
       "      <td>DownTown</td>\n",
       "      <td>Tier 2</td>\n",
       "      <td>Unknown</td>\n",
       "      <td>NaN</td>\n",
       "      <td>test</td>\n",
       "    </tr>\n",
       "    <tr>\n",
       "      <td>1703</td>\n",
       "      <td>ZEE32</td>\n",
       "      <td>20.000</td>\n",
       "      <td>Area018</td>\n",
       "      <td>2007</td>\n",
       "      <td>266.9672</td>\n",
       "      <td>Hreplacements</td>\n",
       "      <td>mild</td>\n",
       "      <td>0.013000</td>\n",
       "      <td>Industrial</td>\n",
       "      <td>Tier 3</td>\n",
       "      <td>Medium</td>\n",
       "      <td>NaN</td>\n",
       "      <td>test</td>\n",
       "    </tr>\n",
       "    <tr>\n",
       "      <td>1704</td>\n",
       "      <td>NDL93</td>\n",
       "      <td>8.080</td>\n",
       "      <td>Area045</td>\n",
       "      <td>2000</td>\n",
       "      <td>238.7694</td>\n",
       "      <td>Antibiotics</td>\n",
       "      <td>critical</td>\n",
       "      <td>0.098982</td>\n",
       "      <td>DownTown</td>\n",
       "      <td>Tier 2</td>\n",
       "      <td>Unknown</td>\n",
       "      <td>NaN</td>\n",
       "      <td>test</td>\n",
       "    </tr>\n",
       "  </tbody>\n",
       "</table>\n",
       "<p>8523 rows × 13 columns</p>\n",
       "</div>"
      ],
      "text/plain": [
       "     Medicine_ID  Counterfeit_Weight DistArea_ID  Active_Since  Medicine_MRP  \\\n",
       "0          RRA15              13.100     Area046          1995      160.2366   \n",
       "1          YVV26                 NaN     Area027          1983      110.4384   \n",
       "2          LJC15               9.025     Area046          1995      259.4092   \n",
       "3          GWC40              11.800     Area046          1995       99.9830   \n",
       "4          QMN13                 NaN     Area019          1983       56.4402   \n",
       "...          ...                 ...         ...           ...           ...   \n",
       "1700       KXW10                 NaN     Area027          1983      136.5704   \n",
       "1701       CKE54              21.300     Area035          2002       57.0744   \n",
       "1702       HAY13              20.400     Area017          2005      182.7422   \n",
       "1703       ZEE32              20.000     Area018          2007      266.9672   \n",
       "1704       NDL93               8.080     Area045          2000      238.7694   \n",
       "\n",
       "           Medicine_Type SidEffect_Level  Availability_rating  \\\n",
       "0           Antimalarial        critical             0.070422   \n",
       "1            Mstablizers            mild             0.013000   \n",
       "2                Cardiac            mild             0.060783   \n",
       "3     OralContraceptives            mild             0.065555   \n",
       "4          Hreplacements        critical             0.248859   \n",
       "...                  ...             ...                  ...   \n",
       "1700       Hreplacements            mild             0.050505   \n",
       "1701         Antibiotics        critical             0.041118   \n",
       "1702         Antiseptics            mild             0.191273   \n",
       "1703       Hreplacements            mild             0.013000   \n",
       "1704         Antibiotics        critical             0.098982   \n",
       "\n",
       "               Area_Type Area_City_Type Area_dist_level  Counterfeit_Sales  \\\n",
       "0               DownTown         Tier 1           Small          1775.5026   \n",
       "1             CityLimits         Tier 3          Medium          3069.1520   \n",
       "2               DownTown         Tier 1           Small          2603.0920   \n",
       "3               DownTown         Tier 1           Small          1101.7130   \n",
       "4     MidTownResidential         Tier 1           Small           158.9402   \n",
       "...                  ...            ...             ...                ...   \n",
       "1700          CityLimits         Tier 3          Medium                NaN   \n",
       "1701            DownTown         Tier 2           Small                NaN   \n",
       "1702            DownTown         Tier 2         Unknown                NaN   \n",
       "1703          Industrial         Tier 3          Medium                NaN   \n",
       "1704            DownTown         Tier 2         Unknown                NaN   \n",
       "\n",
       "       data  \n",
       "0     train  \n",
       "1     train  \n",
       "2     train  \n",
       "3     train  \n",
       "4     train  \n",
       "...     ...  \n",
       "1700   test  \n",
       "1701   test  \n",
       "1702   test  \n",
       "1703   test  \n",
       "1704   test  \n",
       "\n",
       "[8523 rows x 13 columns]"
      ]
     },
     "execution_count": 63,
     "metadata": {},
     "output_type": "execute_result"
    }
   ],
   "source": [
    "all_data"
   ]
  },
  {
   "cell_type": "code",
   "execution_count": 64,
   "metadata": {},
   "outputs": [
    {
     "data": {
      "text/plain": [
       "(8523, 13)"
      ]
     },
     "execution_count": 64,
     "metadata": {},
     "output_type": "execute_result"
    }
   ],
   "source": [
    "all_data.shape"
   ]
  },
  {
   "cell_type": "code",
   "execution_count": 65,
   "metadata": {},
   "outputs": [
    {
     "data": {
      "text/plain": [
       "Medicine_ID             object\n",
       "Counterfeit_Weight     float64\n",
       "DistArea_ID             object\n",
       "Active_Since             int64\n",
       "Medicine_MRP           float64\n",
       "Medicine_Type           object\n",
       "SidEffect_Level         object\n",
       "Availability_rating    float64\n",
       "Area_Type               object\n",
       "Area_City_Type          object\n",
       "Area_dist_level         object\n",
       "Counterfeit_Sales      float64\n",
       "data                    object\n",
       "dtype: object"
      ]
     },
     "execution_count": 65,
     "metadata": {},
     "output_type": "execute_result"
    }
   ],
   "source": [
    "all_data.dtypes"
   ]
  },
  {
   "cell_type": "code",
   "execution_count": 66,
   "metadata": {},
   "outputs": [
    {
     "data": {
      "text/plain": [
       "Medium     2793\n",
       "Unknown    2410\n",
       "Small      2388\n",
       "High        932\n",
       "Name: Area_dist_level, dtype: int64"
      ]
     },
     "execution_count": 66,
     "metadata": {},
     "output_type": "execute_result"
    }
   ],
   "source": [
    "all_data['Area_dist_level'].value_counts()"
   ]
  },
  {
   "cell_type": "code",
   "execution_count": 67,
   "metadata": {},
   "outputs": [
    {
     "data": {
      "text/plain": [
       "Tier 3    3350\n",
       "Tier 2    2785\n",
       "Tier 1    2388\n",
       "Name: Area_City_Type, dtype: int64"
      ]
     },
     "execution_count": 67,
     "metadata": {},
     "output_type": "execute_result"
    }
   ],
   "source": [
    "all_data['Area_City_Type'].value_counts()"
   ]
  },
  {
   "cell_type": "code",
   "execution_count": 68,
   "metadata": {},
   "outputs": [
    {
     "data": {
      "text/plain": [
       "(8523, 13)"
      ]
     },
     "execution_count": 68,
     "metadata": {},
     "output_type": "execute_result"
    }
   ],
   "source": [
    "all_data.shape"
   ]
  },
  {
   "cell_type": "code",
   "execution_count": 69,
   "metadata": {},
   "outputs": [],
   "source": [
    "del all_data['Area_dist_level']"
   ]
  },
  {
   "cell_type": "code",
   "execution_count": 70,
   "metadata": {},
   "outputs": [
    {
     "data": {
      "text/plain": [
       "(8523, 12)"
      ]
     },
     "execution_count": 70,
     "metadata": {},
     "output_type": "execute_result"
    }
   ],
   "source": [
    "all_data.shape"
   ]
  },
  {
   "cell_type": "code",
   "execution_count": 71,
   "metadata": {},
   "outputs": [],
   "source": [
    "cat_vars = all_data.select_dtypes(['object']).columns"
   ]
  },
  {
   "cell_type": "code",
   "execution_count": 72,
   "metadata": {},
   "outputs": [
    {
     "data": {
      "text/plain": [
       "Index(['Medicine_ID', 'DistArea_ID', 'Medicine_Type', 'SidEffect_Level',\n",
       "       'Area_Type', 'Area_City_Type', 'data'],\n",
       "      dtype='object')"
      ]
     },
     "execution_count": 72,
     "metadata": {},
     "output_type": "execute_result"
    }
   ],
   "source": [
    "cat_vars"
   ]
  },
  {
   "cell_type": "code",
   "execution_count": 73,
   "metadata": {},
   "outputs": [
    {
     "name": "stdout",
     "output_type": "stream",
     "text": [
      "Medicine_ID\n",
      "DistArea_ID\n",
      "Medicine_Type\n",
      "SidEffect_Level\n",
      "Area_Type\n",
      "Area_City_Type\n"
     ]
    }
   ],
   "source": [
    "for col in cat_vars[:-1]:\n",
    "    dummy = pd.get_dummies(all_data[col],drop_first=True,prefix=col)\n",
    "    all_data = pd.concat([all_data,dummy],axis=1)\n",
    "    del all_data[col]\n",
    "    print(col)\n",
    "del dummy"
   ]
  },
  {
   "cell_type": "code",
   "execution_count": 74,
   "metadata": {},
   "outputs": [
    {
     "data": {
      "text/plain": [
       "Counterfeit_Weight              float64\n",
       "Active_Since                      int64\n",
       "Medicine_MRP                    float64\n",
       "Availability_rating             float64\n",
       "Counterfeit_Sales               float64\n",
       "                                 ...   \n",
       "Area_Type_DownTown                uint8\n",
       "Area_Type_Industrial              uint8\n",
       "Area_Type_MidTownResidential      uint8\n",
       "Area_City_Type_Tier 2             uint8\n",
       "Area_City_Type_Tier 3             uint8\n",
       "Length: 1592, dtype: object"
      ]
     },
     "execution_count": 74,
     "metadata": {},
     "output_type": "execute_result"
    }
   ],
   "source": [
    "all_data.dtypes"
   ]
  },
  {
   "cell_type": "code",
   "execution_count": 75,
   "metadata": {},
   "outputs": [
    {
     "data": {
      "text/plain": [
       "(8523, 1592)"
      ]
     },
     "execution_count": 75,
     "metadata": {},
     "output_type": "execute_result"
    }
   ],
   "source": [
    "all_data.shape"
   ]
  },
  {
   "cell_type": "code",
   "execution_count": 76,
   "metadata": {},
   "outputs": [
    {
     "data": {
      "text/plain": [
       "13.450    86\n",
       "18.900    82\n",
       "14.950    77\n",
       "13.100    76\n",
       "10.600    68\n",
       "          ..\n",
       "7.035      2\n",
       "7.820      1\n",
       "6.700      1\n",
       "8.985      1\n",
       "10.720     1\n",
       "Name: Counterfeit_Weight, Length: 415, dtype: int64"
      ]
     },
     "execution_count": 76,
     "metadata": {},
     "output_type": "execute_result"
    }
   ],
   "source": [
    "all_data[\"Counterfeit_Weight\"].value_counts()"
   ]
  },
  {
   "cell_type": "code",
   "execution_count": 77,
   "metadata": {},
   "outputs": [
    {
     "data": {
      "text/plain": [
       "1463"
      ]
     },
     "execution_count": 77,
     "metadata": {},
     "output_type": "execute_result"
    }
   ],
   "source": [
    "all_data[\"Counterfeit_Weight\"].isnull().sum()"
   ]
  },
  {
   "cell_type": "code",
   "execution_count": 78,
   "metadata": {},
   "outputs": [
    {
     "data": {
      "text/plain": [
       "1463"
      ]
     },
     "execution_count": 78,
     "metadata": {},
     "output_type": "execute_result"
    }
   ],
   "source": [
    "1166+297"
   ]
  },
  {
   "cell_type": "code",
   "execution_count": 79,
   "metadata": {},
   "outputs": [],
   "source": [
    "all_data['Counterfeit_Weight'].fillna(all_data['Counterfeit_Weight'].mean(), inplace=True)"
   ]
  },
  {
   "cell_type": "code",
   "execution_count": 80,
   "metadata": {},
   "outputs": [
    {
     "data": {
      "text/plain": [
       "0"
      ]
     },
     "execution_count": 80,
     "metadata": {},
     "output_type": "execute_result"
    }
   ],
   "source": [
    "all_data[\"Counterfeit_Weight\"].isnull().sum()"
   ]
  },
  {
   "cell_type": "code",
   "execution_count": 81,
   "metadata": {},
   "outputs": [],
   "source": [
    "all_data['Counterfeit_Sales'].fillna(all_data['Counterfeit_Sales'].mean(), inplace=True)"
   ]
  },
  {
   "cell_type": "code",
   "execution_count": 82,
   "metadata": {},
   "outputs": [
    {
     "data": {
      "text/plain": [
       "0"
      ]
     },
     "execution_count": 82,
     "metadata": {},
     "output_type": "execute_result"
    }
   ],
   "source": [
    "all_data['Counterfeit_Sales'].isnull().sum()"
   ]
  },
  {
   "cell_type": "code",
   "execution_count": 83,
   "metadata": {},
   "outputs": [
    {
     "data": {
      "text/plain": [
       "Counterfeit_Weight              float64\n",
       "Active_Since                      int64\n",
       "Medicine_MRP                    float64\n",
       "Availability_rating             float64\n",
       "Counterfeit_Sales               float64\n",
       "                                 ...   \n",
       "Area_Type_DownTown                uint8\n",
       "Area_Type_Industrial              uint8\n",
       "Area_Type_MidTownResidential      uint8\n",
       "Area_City_Type_Tier 2             uint8\n",
       "Area_City_Type_Tier 3             uint8\n",
       "Length: 1592, dtype: object"
      ]
     },
     "execution_count": 83,
     "metadata": {},
     "output_type": "execute_result"
    }
   ],
   "source": [
    "all_data.dtypes"
   ]
  },
  {
   "cell_type": "code",
   "execution_count": 85,
   "metadata": {},
   "outputs": [
    {
     "data": {
      "text/plain": [
       "Counterfeit_Weight              0\n",
       "Active_Since                    0\n",
       "Medicine_MRP                    0\n",
       "Availability_rating             0\n",
       "Counterfeit_Sales               0\n",
       "                               ..\n",
       "Area_Type_DownTown              0\n",
       "Area_Type_Industrial            0\n",
       "Area_Type_MidTownResidential    0\n",
       "Area_City_Type_Tier 2           0\n",
       "Area_City_Type_Tier 3           0\n",
       "Length: 1592, dtype: int64"
      ]
     },
     "execution_count": 85,
     "metadata": {},
     "output_type": "execute_result"
    }
   ],
   "source": [
    "all_data.isnull().sum()"
   ]
  },
  {
   "cell_type": "code",
   "execution_count": 86,
   "metadata": {},
   "outputs": [
    {
     "data": {
      "text/plain": [
       "Counterfeit_Weight              0\n",
       "Active_Since                    0\n",
       "Medicine_MRP                    0\n",
       "Availability_rating             0\n",
       "Counterfeit_Sales               0\n",
       "                               ..\n",
       "Area_Type_DownTown              0\n",
       "Area_Type_Industrial            0\n",
       "Area_Type_MidTownResidential    0\n",
       "Area_City_Type_Tier 2           0\n",
       "Area_City_Type_Tier 3           0\n",
       "Length: 1592, dtype: int64"
      ]
     },
     "execution_count": 86,
     "metadata": {},
     "output_type": "execute_result"
    }
   ],
   "source": [
    "all_data.isnull().sum()"
   ]
  },
  {
   "cell_type": "code",
   "execution_count": 87,
   "metadata": {},
   "outputs": [],
   "source": [
    "train = all_data[all_data['data']=='train']"
   ]
  },
  {
   "cell_type": "code",
   "execution_count": 88,
   "metadata": {},
   "outputs": [],
   "source": [
    "test = all_data[all_data['data']=='test']"
   ]
  },
  {
   "cell_type": "code",
   "execution_count": 89,
   "metadata": {},
   "outputs": [],
   "source": [
    "del train['data']"
   ]
  },
  {
   "cell_type": "code",
   "execution_count": 90,
   "metadata": {},
   "outputs": [
    {
     "name": "stderr",
     "output_type": "stream",
     "text": [
      "C:\\Users\\Mr. Jarvis\\Anaconda3\\lib\\site-packages\\pandas\\core\\frame.py:4102: SettingWithCopyWarning: \n",
      "A value is trying to be set on a copy of a slice from a DataFrame\n",
      "\n",
      "See the caveats in the documentation: http://pandas.pydata.org/pandas-docs/stable/user_guide/indexing.html#returning-a-view-versus-a-copy\n",
      "  errors=errors,\n"
     ]
    }
   ],
   "source": [
    "test.drop(['data','Counterfeit_Sales'],axis=1,inplace=True)"
   ]
  },
  {
   "cell_type": "code",
   "execution_count": 91,
   "metadata": {},
   "outputs": [],
   "source": [
    "from sklearn.model_selection import cross_val_predict, GridSearchCV\n",
    "from sklearn.ensemble import RandomForestRegressor\n",
    "from sklearn.preprocessing import MinMaxScaler"
   ]
  },
  {
   "cell_type": "code",
   "execution_count": 92,
   "metadata": {},
   "outputs": [],
   "source": [
    "\n",
    "from sklearn.model_selection import RandomizedSearchCV"
   ]
  },
  {
   "cell_type": "code",
   "execution_count": 93,
   "metadata": {},
   "outputs": [],
   "source": [
    "x_train = train.drop(['Counterfeit_Sales'], axis=1)"
   ]
  },
  {
   "cell_type": "code",
   "execution_count": 94,
   "metadata": {},
   "outputs": [
    {
     "data": {
      "text/plain": [
       "(6818, 1590)"
      ]
     },
     "execution_count": 94,
     "metadata": {},
     "output_type": "execute_result"
    }
   ],
   "source": [
    "x_train.shape"
   ]
  },
  {
   "cell_type": "code",
   "execution_count": 95,
   "metadata": {},
   "outputs": [],
   "source": [
    "y_train= train['Counterfeit_Sales']"
   ]
  },
  {
   "cell_type": "code",
   "execution_count": 96,
   "metadata": {},
   "outputs": [
    {
     "data": {
      "text/plain": [
       "(6818,)"
      ]
     },
     "execution_count": 96,
     "metadata": {},
     "output_type": "execute_result"
    }
   ],
   "source": [
    "y_train.shape"
   ]
  },
  {
   "cell_type": "code",
   "execution_count": null,
   "metadata": {},
   "outputs": [],
   "source": []
  },
  {
   "cell_type": "code",
   "execution_count": 97,
   "metadata": {},
   "outputs": [],
   "source": [
    "rfr = RandomForestRegressor( random_state = 42)"
   ]
  },
  {
   "cell_type": "code",
   "execution_count": 98,
   "metadata": {},
   "outputs": [],
   "source": [
    "param_dist = {'max_depth': range(3,7),\n",
    "            'n_estimators': (10, 50,15,20,25)}"
   ]
  },
  {
   "cell_type": "code",
   "execution_count": 99,
   "metadata": {},
   "outputs": [],
   "source": [
    "n_iter_search=10"
   ]
  },
  {
   "cell_type": "code",
   "execution_count": 100,
   "metadata": {},
   "outputs": [],
   "source": [
    "random_search = RandomizedSearchCV(rfr, param_distributions=param_dist,n_iter=n_iter_search,scoring='neg_mean_squared_error',cv=10,verbose=20)"
   ]
  },
  {
   "cell_type": "code",
   "execution_count": 101,
   "metadata": {},
   "outputs": [],
   "source": [
    "?RandomizedSearchCV"
   ]
  },
  {
   "cell_type": "code",
   "execution_count": 102,
   "metadata": {},
   "outputs": [
    {
     "name": "stdout",
     "output_type": "stream",
     "text": [
      "Fitting 10 folds for each of 10 candidates, totalling 100 fits\n",
      "[CV] n_estimators=15, max_depth=5 ....................................\n"
     ]
    },
    {
     "name": "stderr",
     "output_type": "stream",
     "text": [
      "[Parallel(n_jobs=1)]: Using backend SequentialBackend with 1 concurrent workers.\n"
     ]
    },
    {
     "name": "stdout",
     "output_type": "stream",
     "text": [
      "[CV] . n_estimators=15, max_depth=5, score=-1040626.673, total=   2.1s\n",
      "[CV] n_estimators=15, max_depth=5 ....................................\n"
     ]
    },
    {
     "name": "stderr",
     "output_type": "stream",
     "text": [
      "[Parallel(n_jobs=1)]: Done   1 out of   1 | elapsed:    2.0s remaining:    0.0s\n"
     ]
    },
    {
     "name": "stdout",
     "output_type": "stream",
     "text": [
      "[CV] . n_estimators=15, max_depth=5, score=-1173818.307, total=   2.0s\n",
      "[CV] n_estimators=15, max_depth=5 ....................................\n"
     ]
    },
    {
     "name": "stderr",
     "output_type": "stream",
     "text": [
      "[Parallel(n_jobs=1)]: Done   2 out of   2 | elapsed:    4.0s remaining:    0.0s\n"
     ]
    },
    {
     "name": "stdout",
     "output_type": "stream",
     "text": [
      "[CV] . n_estimators=15, max_depth=5, score=-1127728.688, total=   2.2s\n",
      "[CV] n_estimators=15, max_depth=5 ....................................\n"
     ]
    },
    {
     "name": "stderr",
     "output_type": "stream",
     "text": [
      "[Parallel(n_jobs=1)]: Done   3 out of   3 | elapsed:    6.2s remaining:    0.0s\n"
     ]
    },
    {
     "name": "stdout",
     "output_type": "stream",
     "text": [
      "[CV] . n_estimators=15, max_depth=5, score=-1110511.099, total=   2.0s\n",
      "[CV] n_estimators=15, max_depth=5 ....................................\n"
     ]
    },
    {
     "name": "stderr",
     "output_type": "stream",
     "text": [
      "[Parallel(n_jobs=1)]: Done   4 out of   4 | elapsed:    8.2s remaining:    0.0s\n"
     ]
    },
    {
     "name": "stdout",
     "output_type": "stream",
     "text": [
      "[CV] . n_estimators=15, max_depth=5, score=-1397085.615, total=   2.1s\n",
      "[CV] n_estimators=15, max_depth=5 ....................................\n"
     ]
    },
    {
     "name": "stderr",
     "output_type": "stream",
     "text": [
      "[Parallel(n_jobs=1)]: Done   5 out of   5 | elapsed:   10.3s remaining:    0.0s\n"
     ]
    },
    {
     "name": "stdout",
     "output_type": "stream",
     "text": [
      "[CV] . n_estimators=15, max_depth=5, score=-1112473.229, total=   2.0s\n",
      "[CV] n_estimators=15, max_depth=5 ....................................\n"
     ]
    },
    {
     "name": "stderr",
     "output_type": "stream",
     "text": [
      "[Parallel(n_jobs=1)]: Done   6 out of   6 | elapsed:   12.3s remaining:    0.0s\n"
     ]
    },
    {
     "name": "stdout",
     "output_type": "stream",
     "text": [
      "[CV] . n_estimators=15, max_depth=5, score=-1059344.075, total=   2.2s\n",
      "[CV] n_estimators=15, max_depth=5 ....................................\n"
     ]
    },
    {
     "name": "stderr",
     "output_type": "stream",
     "text": [
      "[Parallel(n_jobs=1)]: Done   7 out of   7 | elapsed:   14.5s remaining:    0.0s\n"
     ]
    },
    {
     "name": "stdout",
     "output_type": "stream",
     "text": [
      "[CV] . n_estimators=15, max_depth=5, score=-1081515.285, total=   2.1s\n",
      "[CV] n_estimators=15, max_depth=5 ....................................\n"
     ]
    },
    {
     "name": "stderr",
     "output_type": "stream",
     "text": [
      "[Parallel(n_jobs=1)]: Done   8 out of   8 | elapsed:   16.7s remaining:    0.0s\n"
     ]
    },
    {
     "name": "stdout",
     "output_type": "stream",
     "text": [
      "[CV] . n_estimators=15, max_depth=5, score=-1225897.896, total=   2.2s\n",
      "[CV] n_estimators=15, max_depth=5 ....................................\n"
     ]
    },
    {
     "name": "stderr",
     "output_type": "stream",
     "text": [
      "[Parallel(n_jobs=1)]: Done   9 out of   9 | elapsed:   18.8s remaining:    0.0s\n"
     ]
    },
    {
     "name": "stdout",
     "output_type": "stream",
     "text": [
      "[CV] . n_estimators=15, max_depth=5, score=-1148573.090, total=   2.2s\n",
      "[CV] n_estimators=25, max_depth=6 ....................................\n"
     ]
    },
    {
     "name": "stderr",
     "output_type": "stream",
     "text": [
      "[Parallel(n_jobs=1)]: Done  10 out of  10 | elapsed:   21.0s remaining:    0.0s\n"
     ]
    },
    {
     "name": "stdout",
     "output_type": "stream",
     "text": [
      "[CV] . n_estimators=25, max_depth=6, score=-1042622.468, total=   3.6s\n",
      "[CV] n_estimators=25, max_depth=6 ....................................\n"
     ]
    },
    {
     "name": "stderr",
     "output_type": "stream",
     "text": [
      "[Parallel(n_jobs=1)]: Done  11 out of  11 | elapsed:   24.7s remaining:    0.0s\n"
     ]
    },
    {
     "name": "stdout",
     "output_type": "stream",
     "text": [
      "[CV] . n_estimators=25, max_depth=6, score=-1173155.115, total=   3.6s\n",
      "[CV] n_estimators=25, max_depth=6 ....................................\n"
     ]
    },
    {
     "name": "stderr",
     "output_type": "stream",
     "text": [
      "[Parallel(n_jobs=1)]: Done  12 out of  12 | elapsed:   28.3s remaining:    0.0s\n"
     ]
    },
    {
     "name": "stdout",
     "output_type": "stream",
     "text": [
      "[CV] . n_estimators=25, max_depth=6, score=-1129385.533, total=   3.6s\n",
      "[CV] n_estimators=25, max_depth=6 ....................................\n"
     ]
    },
    {
     "name": "stderr",
     "output_type": "stream",
     "text": [
      "[Parallel(n_jobs=1)]: Done  13 out of  13 | elapsed:   31.9s remaining:    0.0s\n"
     ]
    },
    {
     "name": "stdout",
     "output_type": "stream",
     "text": [
      "[CV] . n_estimators=25, max_depth=6, score=-1116625.728, total=   3.6s\n",
      "[CV] n_estimators=25, max_depth=6 ....................................\n"
     ]
    },
    {
     "name": "stderr",
     "output_type": "stream",
     "text": [
      "[Parallel(n_jobs=1)]: Done  14 out of  14 | elapsed:   35.4s remaining:    0.0s\n"
     ]
    },
    {
     "name": "stdout",
     "output_type": "stream",
     "text": [
      "[CV] . n_estimators=25, max_depth=6, score=-1397084.508, total=   3.7s\n",
      "[CV] n_estimators=25, max_depth=6 ....................................\n"
     ]
    },
    {
     "name": "stderr",
     "output_type": "stream",
     "text": [
      "[Parallel(n_jobs=1)]: Done  15 out of  15 | elapsed:   39.2s remaining:    0.0s\n"
     ]
    },
    {
     "name": "stdout",
     "output_type": "stream",
     "text": [
      "[CV] . n_estimators=25, max_depth=6, score=-1111868.076, total=   3.5s\n",
      "[CV] n_estimators=25, max_depth=6 ....................................\n"
     ]
    },
    {
     "name": "stderr",
     "output_type": "stream",
     "text": [
      "[Parallel(n_jobs=1)]: Done  16 out of  16 | elapsed:   42.7s remaining:    0.0s\n"
     ]
    },
    {
     "name": "stdout",
     "output_type": "stream",
     "text": [
      "[CV] . n_estimators=25, max_depth=6, score=-1059246.283, total=   3.6s\n",
      "[CV] n_estimators=25, max_depth=6 ....................................\n"
     ]
    },
    {
     "name": "stderr",
     "output_type": "stream",
     "text": [
      "[Parallel(n_jobs=1)]: Done  17 out of  17 | elapsed:   46.3s remaining:    0.0s\n"
     ]
    },
    {
     "name": "stdout",
     "output_type": "stream",
     "text": [
      "[CV] . n_estimators=25, max_depth=6, score=-1092771.553, total=   3.6s\n",
      "[CV] n_estimators=25, max_depth=6 ....................................\n"
     ]
    },
    {
     "name": "stderr",
     "output_type": "stream",
     "text": [
      "[Parallel(n_jobs=1)]: Done  18 out of  18 | elapsed:   49.9s remaining:    0.0s\n"
     ]
    },
    {
     "name": "stdout",
     "output_type": "stream",
     "text": [
      "[CV] . n_estimators=25, max_depth=6, score=-1213566.302, total=   3.7s\n",
      "[CV] n_estimators=25, max_depth=6 ....................................\n"
     ]
    },
    {
     "name": "stderr",
     "output_type": "stream",
     "text": [
      "[Parallel(n_jobs=1)]: Done  19 out of  19 | elapsed:   53.6s remaining:    0.0s\n"
     ]
    },
    {
     "name": "stdout",
     "output_type": "stream",
     "text": [
      "[CV] . n_estimators=25, max_depth=6, score=-1140440.118, total=   3.5s\n",
      "[CV] n_estimators=20, max_depth=3 ....................................\n",
      "[CV] . n_estimators=20, max_depth=3, score=-1244222.393, total=   1.8s\n",
      "[CV] n_estimators=20, max_depth=3 ....................................\n",
      "[CV] . n_estimators=20, max_depth=3, score=-1346532.509, total=   1.8s\n",
      "[CV] n_estimators=20, max_depth=3 ....................................\n",
      "[CV] . n_estimators=20, max_depth=3, score=-1184179.286, total=   1.8s\n",
      "[CV] n_estimators=20, max_depth=3 ....................................\n",
      "[CV] . n_estimators=20, max_depth=3, score=-1312294.037, total=   1.9s\n",
      "[CV] n_estimators=20, max_depth=3 ....................................\n",
      "[CV] . n_estimators=20, max_depth=3, score=-1586103.901, total=   1.8s\n",
      "[CV] n_estimators=20, max_depth=3 ....................................\n",
      "[CV] . n_estimators=20, max_depth=3, score=-1331337.468, total=   1.8s\n",
      "[CV] n_estimators=20, max_depth=3 ....................................\n",
      "[CV] . n_estimators=20, max_depth=3, score=-1187773.773, total=   2.0s\n",
      "[CV] n_estimators=20, max_depth=3 ....................................\n",
      "[CV] . n_estimators=20, max_depth=3, score=-1195192.940, total=   1.9s\n",
      "[CV] n_estimators=20, max_depth=3 ....................................\n",
      "[CV] . n_estimators=20, max_depth=3, score=-1430734.512, total=   1.9s\n",
      "[CV] n_estimators=20, max_depth=3 ....................................\n",
      "[CV] . n_estimators=20, max_depth=3, score=-1243904.310, total=   1.9s\n",
      "[CV] n_estimators=25, max_depth=3 ....................................\n",
      "[CV] . n_estimators=25, max_depth=3, score=-1239795.410, total=   2.3s\n",
      "[CV] n_estimators=25, max_depth=3 ....................................\n",
      "[CV] . n_estimators=25, max_depth=3, score=-1344882.898, total=   2.2s\n",
      "[CV] n_estimators=25, max_depth=3 ....................................\n",
      "[CV] . n_estimators=25, max_depth=3, score=-1187228.783, total=   2.2s\n",
      "[CV] n_estimators=25, max_depth=3 ....................................\n",
      "[CV] . n_estimators=25, max_depth=3, score=-1311693.625, total=   2.4s\n",
      "[CV] n_estimators=25, max_depth=3 ....................................\n",
      "[CV] . n_estimators=25, max_depth=3, score=-1586584.323, total=   2.3s\n",
      "[CV] n_estimators=25, max_depth=3 ....................................\n",
      "[CV] . n_estimators=25, max_depth=3, score=-1334784.901, total=   2.2s\n",
      "[CV] n_estimators=25, max_depth=3 ....................................\n",
      "[CV] . n_estimators=25, max_depth=3, score=-1190193.055, total=   2.3s\n",
      "[CV] n_estimators=25, max_depth=3 ....................................\n",
      "[CV] . n_estimators=25, max_depth=3, score=-1190245.507, total=   2.4s\n",
      "[CV] n_estimators=25, max_depth=3 ....................................\n",
      "[CV] . n_estimators=25, max_depth=3, score=-1424788.352, total=   2.3s\n",
      "[CV] n_estimators=25, max_depth=3 ....................................\n",
      "[CV] . n_estimators=25, max_depth=3, score=-1242541.973, total=   2.3s\n",
      "[CV] n_estimators=10, max_depth=4 ....................................\n",
      "[CV] . n_estimators=10, max_depth=4, score=-1077141.703, total=   1.2s\n",
      "[CV] n_estimators=10, max_depth=4 ....................................\n",
      "[CV] . n_estimators=10, max_depth=4, score=-1194145.734, total=   1.4s\n",
      "[CV] n_estimators=10, max_depth=4 ....................................\n",
      "[CV] . n_estimators=10, max_depth=4, score=-1145129.614, total=   1.3s\n",
      "[CV] n_estimators=10, max_depth=4 ....................................\n",
      "[CV] . n_estimators=10, max_depth=4, score=-1127941.174, total=   1.2s\n",
      "[CV] n_estimators=10, max_depth=4 ....................................\n",
      "[CV] . n_estimators=10, max_depth=4, score=-1414851.405, total=   1.2s\n",
      "[CV] n_estimators=10, max_depth=4 ....................................\n",
      "[CV] . n_estimators=10, max_depth=4, score=-1114033.415, total=   1.2s\n",
      "[CV] n_estimators=10, max_depth=4 ....................................\n",
      "[CV] . n_estimators=10, max_depth=4, score=-1078003.702, total=   1.2s\n",
      "[CV] n_estimators=10, max_depth=4 ....................................\n",
      "[CV] . n_estimators=10, max_depth=4, score=-1118373.672, total=   1.2s\n",
      "[CV] n_estimators=10, max_depth=4 ....................................\n",
      "[CV] . n_estimators=10, max_depth=4, score=-1264272.826, total=   1.2s\n",
      "[CV] n_estimators=10, max_depth=4 ....................................\n",
      "[CV] . n_estimators=10, max_depth=4, score=-1187954.258, total=   1.3s\n",
      "[CV] n_estimators=25, max_depth=4 ....................................\n",
      "[CV] . n_estimators=25, max_depth=4, score=-1072627.227, total=   2.8s\n",
      "[CV] n_estimators=25, max_depth=4 ....................................\n",
      "[CV] . n_estimators=25, max_depth=4, score=-1195038.041, total=   3.0s\n",
      "[CV] n_estimators=25, max_depth=4 ....................................\n",
      "[CV] . n_estimators=25, max_depth=4, score=-1145189.980, total=   2.9s\n",
      "[CV] n_estimators=25, max_depth=4 ....................................\n",
      "[CV] . n_estimators=25, max_depth=4, score=-1130028.271, total=   2.9s\n",
      "[CV] n_estimators=25, max_depth=4 ....................................\n",
      "[CV] . n_estimators=25, max_depth=4, score=-1406974.322, total=   2.9s\n",
      "[CV] n_estimators=25, max_depth=4 ....................................\n",
      "[CV] . n_estimators=25, max_depth=4, score=-1123225.607, total=   2.9s\n",
      "[CV] n_estimators=25, max_depth=4 ....................................\n",
      "[CV] . n_estimators=25, max_depth=4, score=-1079013.297, total=   2.9s\n",
      "[CV] n_estimators=25, max_depth=4 ....................................\n",
      "[CV] . n_estimators=25, max_depth=4, score=-1126639.021, total=   3.1s\n",
      "[CV] n_estimators=25, max_depth=4 ....................................\n",
      "[CV] . n_estimators=25, max_depth=4, score=-1261902.352, total=   2.9s\n",
      "[CV] n_estimators=25, max_depth=4 ....................................\n",
      "[CV] . n_estimators=25, max_depth=4, score=-1186213.010, total=   2.9s\n",
      "[CV] n_estimators=15, max_depth=4 ....................................\n",
      "[CV] . n_estimators=15, max_depth=4, score=-1077097.732, total=   1.8s\n",
      "[CV] n_estimators=15, max_depth=4 ....................................\n",
      "[CV] . n_estimators=15, max_depth=4, score=-1197722.744, total=   1.8s\n",
      "[CV] n_estimators=15, max_depth=4 ....................................\n",
      "[CV] . n_estimators=15, max_depth=4, score=-1147491.297, total=   1.8s\n",
      "[CV] n_estimators=15, max_depth=4 ....................................\n",
      "[CV] . n_estimators=15, max_depth=4, score=-1123985.757, total=   1.8s\n",
      "[CV] n_estimators=15, max_depth=4 ....................................\n",
      "[CV] . n_estimators=15, max_depth=4, score=-1412191.205, total=   2.0s\n",
      "[CV] n_estimators=15, max_depth=4 ....................................\n",
      "[CV] . n_estimators=15, max_depth=4, score=-1119730.936, total=   1.8s\n",
      "[CV] n_estimators=15, max_depth=4 ....................................\n",
      "[CV] . n_estimators=15, max_depth=4, score=-1079621.272, total=   1.8s\n",
      "[CV] n_estimators=15, max_depth=4 ....................................\n",
      "[CV] . n_estimators=15, max_depth=4, score=-1126047.047, total=   2.0s\n",
      "[CV] n_estimators=15, max_depth=4 ....................................\n",
      "[CV] . n_estimators=15, max_depth=4, score=-1265426.133, total=   2.0s\n",
      "[CV] n_estimators=15, max_depth=4 ....................................\n",
      "[CV] . n_estimators=15, max_depth=4, score=-1188546.407, total=   2.0s\n",
      "[CV] n_estimators=50, max_depth=4 ....................................\n",
      "[CV] . n_estimators=50, max_depth=4, score=-1075494.465, total=   6.6s\n",
      "[CV] n_estimators=50, max_depth=4 ....................................\n",
      "[CV] . n_estimators=50, max_depth=4, score=-1190543.969, total=   6.3s\n",
      "[CV] n_estimators=50, max_depth=4 ....................................\n",
      "[CV] . n_estimators=50, max_depth=4, score=-1135253.173, total=   6.2s\n",
      "[CV] n_estimators=50, max_depth=4 ....................................\n",
      "[CV] . n_estimators=50, max_depth=4, score=-1126697.181, total=   7.6s\n",
      "[CV] n_estimators=50, max_depth=4 ....................................\n",
      "[CV] . n_estimators=50, max_depth=4, score=-1398871.593, total=   6.3s\n",
      "[CV] n_estimators=50, max_depth=4 ....................................\n",
      "[CV] . n_estimators=50, max_depth=4, score=-1124910.410, total=   5.6s\n",
      "[CV] n_estimators=50, max_depth=4 ....................................\n",
      "[CV] . n_estimators=50, max_depth=4, score=-1081306.151, total=   5.5s\n",
      "[CV] n_estimators=50, max_depth=4 ....................................\n"
     ]
    },
    {
     "name": "stdout",
     "output_type": "stream",
     "text": [
      "[CV] . n_estimators=50, max_depth=4, score=-1112190.069, total=   5.5s\n",
      "[CV] n_estimators=50, max_depth=4 ....................................\n",
      "[CV] . n_estimators=50, max_depth=4, score=-1261488.789, total=   5.6s\n",
      "[CV] n_estimators=50, max_depth=4 ....................................\n",
      "[CV] . n_estimators=50, max_depth=4, score=-1180562.612, total=   5.4s\n",
      "[CV] n_estimators=20, max_depth=5 ....................................\n",
      "[CV] . n_estimators=20, max_depth=5, score=-1040460.340, total=   2.6s\n",
      "[CV] n_estimators=20, max_depth=5 ....................................\n",
      "[CV] . n_estimators=20, max_depth=5, score=-1177702.956, total=   2.6s\n",
      "[CV] n_estimators=20, max_depth=5 ....................................\n",
      "[CV] . n_estimators=20, max_depth=5, score=-1125676.186, total=   2.7s\n",
      "[CV] n_estimators=20, max_depth=5 ....................................\n",
      "[CV] . n_estimators=20, max_depth=5, score=-1113995.690, total=   2.7s\n",
      "[CV] n_estimators=20, max_depth=5 ....................................\n",
      "[CV] . n_estimators=20, max_depth=5, score=-1392707.687, total=   2.6s\n",
      "[CV] n_estimators=20, max_depth=5 ....................................\n",
      "[CV] . n_estimators=20, max_depth=5, score=-1119568.068, total=   2.6s\n",
      "[CV] n_estimators=20, max_depth=5 ....................................\n",
      "[CV] . n_estimators=20, max_depth=5, score=-1057888.105, total=   2.6s\n",
      "[CV] n_estimators=20, max_depth=5 ....................................\n",
      "[CV] . n_estimators=20, max_depth=5, score=-1083645.540, total=   2.6s\n",
      "[CV] n_estimators=20, max_depth=5 ....................................\n",
      "[CV] . n_estimators=20, max_depth=5, score=-1226120.659, total=   2.6s\n",
      "[CV] n_estimators=20, max_depth=5 ....................................\n",
      "[CV] . n_estimators=20, max_depth=5, score=-1144846.821, total=   2.8s\n",
      "[CV] n_estimators=10, max_depth=5 ....................................\n",
      "[CV] . n_estimators=10, max_depth=5, score=-1042091.453, total=   1.4s\n",
      "[CV] n_estimators=10, max_depth=5 ....................................\n",
      "[CV] . n_estimators=10, max_depth=5, score=-1172870.012, total=   1.8s\n",
      "[CV] n_estimators=10, max_depth=5 ....................................\n",
      "[CV] . n_estimators=10, max_depth=5, score=-1131506.649, total=   1.4s\n",
      "[CV] n_estimators=10, max_depth=5 ....................................\n",
      "[CV] . n_estimators=10, max_depth=5, score=-1113746.480, total=   1.4s\n",
      "[CV] n_estimators=10, max_depth=5 ....................................\n",
      "[CV] . n_estimators=10, max_depth=5, score=-1396593.105, total=   1.4s\n",
      "[CV] n_estimators=10, max_depth=5 ....................................\n",
      "[CV] . n_estimators=10, max_depth=5, score=-1112052.475, total=   1.3s\n",
      "[CV] n_estimators=10, max_depth=5 ....................................\n",
      "[CV] . n_estimators=10, max_depth=5, score=-1063102.343, total=   1.4s\n",
      "[CV] n_estimators=10, max_depth=5 ....................................\n",
      "[CV] . n_estimators=10, max_depth=5, score=-1082890.147, total=   1.3s\n",
      "[CV] n_estimators=10, max_depth=5 ....................................\n",
      "[CV] . n_estimators=10, max_depth=5, score=-1228643.488, total=   1.3s\n",
      "[CV] n_estimators=10, max_depth=5 ....................................\n",
      "[CV] . n_estimators=10, max_depth=5, score=-1149002.638, total=   1.7s\n"
     ]
    },
    {
     "name": "stderr",
     "output_type": "stream",
     "text": [
      "[Parallel(n_jobs=1)]: Done 100 out of 100 | elapsed:  4.3min finished\n"
     ]
    },
    {
     "data": {
      "text/plain": [
       "RandomizedSearchCV(cv=10, error_score='raise-deprecating',\n",
       "                   estimator=RandomForestRegressor(bootstrap=True,\n",
       "                                                   criterion='mse',\n",
       "                                                   max_depth=None,\n",
       "                                                   max_features='auto',\n",
       "                                                   max_leaf_nodes=None,\n",
       "                                                   min_impurity_decrease=0.0,\n",
       "                                                   min_impurity_split=None,\n",
       "                                                   min_samples_leaf=1,\n",
       "                                                   min_samples_split=2,\n",
       "                                                   min_weight_fraction_leaf=0.0,\n",
       "                                                   n_estimators='warn',\n",
       "                                                   n_jobs=None, oob_score=False,\n",
       "                                                   random_state=42, verbose=0,\n",
       "                                                   warm_start=False),\n",
       "                   iid='warn', n_iter=10, n_jobs=None,\n",
       "                   param_distributions={'max_depth': range(3, 7),\n",
       "                                        'n_estimators': (10, 50, 15, 20, 25)},\n",
       "                   pre_dispatch='2*n_jobs', random_state=None, refit=True,\n",
       "                   return_train_score=False, scoring='neg_mean_squared_error',\n",
       "                   verbose=20)"
      ]
     },
     "execution_count": 102,
     "metadata": {},
     "output_type": "execute_result"
    }
   ],
   "source": [
    "random_search.fit(x_train, y_train)"
   ]
  },
  {
   "cell_type": "code",
   "execution_count": 103,
   "metadata": {},
   "outputs": [
    {
     "data": {
      "text/plain": [
       "RandomForestRegressor(bootstrap=True, criterion='mse', max_depth=6,\n",
       "                      max_features='auto', max_leaf_nodes=None,\n",
       "                      min_impurity_decrease=0.0, min_impurity_split=None,\n",
       "                      min_samples_leaf=1, min_samples_split=2,\n",
       "                      min_weight_fraction_leaf=0.0, n_estimators=25,\n",
       "                      n_jobs=None, oob_score=False, random_state=42, verbose=0,\n",
       "                      warm_start=False)"
      ]
     },
     "execution_count": 103,
     "metadata": {},
     "output_type": "execute_result"
    }
   ],
   "source": [
    "random_search.best_estimator_"
   ]
  },
  {
   "cell_type": "code",
   "execution_count": 104,
   "metadata": {},
   "outputs": [],
   "source": [
    "def report(results, n_top=3):\n",
    "    for i in range(1, n_top + 1):\n",
    "        # np.flatnonzero extracts index of `True` in a boolean array\n",
    "        candidate = np.flatnonzero(results['rank_test_score'] == i)[0]\n",
    "        # print rank of the model\n",
    "        # values passed to function format here are put in the curly brackets when printing\n",
    "        # 0 , 1 etc refer to placeholder for position of values passed to format function\n",
    "        # .3f means upto 2 decimal digits\n",
    "        print(\"Model with rank: {0}\".format(i))\n",
    "        # this prints cross validated performance and its standard deviation\n",
    "        print(\"Mean validation score: {0:.5f} (std: {1:.5f})\".format(\n",
    "            results['mean_test_score'][candidate],\n",
    "            results['std_test_score'][candidate]))\n",
    "        # prints the paramter combination for which this performance was obtained\n",
    "        print(\"Parameters: {0}\".format(results['params'][candidate]))\n",
    "        print(\"\")"
   ]
  },
  {
   "cell_type": "code",
   "execution_count": 105,
   "metadata": {},
   "outputs": [
    {
     "name": "stdout",
     "output_type": "stream",
     "text": [
      "Model with rank: 1\n",
      "Mean validation score: -1147667.96562 (std: 95770.32871)\n",
      "Parameters: {'n_estimators': 25, 'max_depth': 6}\n",
      "\n",
      "Model with rank: 2\n",
      "Mean validation score: -1147745.81514 (std: 97818.59340)\n",
      "Parameters: {'n_estimators': 15, 'max_depth': 5}\n",
      "\n",
      "Model with rank: 3\n",
      "Mean validation score: -1148250.28637 (std: 96531.90387)\n",
      "Parameters: {'n_estimators': 20, 'max_depth': 5}\n",
      "\n",
      "Model with rank: 4\n",
      "Mean validation score: -1149238.27064 (std: 97121.21618)\n",
      "Parameters: {'n_estimators': 10, 'max_depth': 5}\n",
      "\n",
      "Model with rank: 5\n",
      "Mean validation score: -1168716.50114 (std: 93025.76551)\n",
      "Parameters: {'n_estimators': 50, 'max_depth': 4}\n",
      "\n"
     ]
    }
   ],
   "source": [
    "report(random_search.cv_results_,5)"
   ]
  },
  {
   "cell_type": "code",
   "execution_count": 145,
   "metadata": {},
   "outputs": [],
   "source": [
    "rf=RandomForestRegressor(bootstrap=True, criterion='mse', max_depth=4,\n",
    "           max_features='auto', max_leaf_nodes=None,\n",
    "           min_impurity_decrease=0.0, min_impurity_split=None,\n",
    "           min_samples_leaf=1, min_samples_split=2,\n",
    "           min_weight_fraction_leaf=0.0, n_estimators=50, n_jobs=1,\n",
    "           oob_score=False, random_state=0, verbose=0, warm_start=False)"
   ]
  },
  {
   "cell_type": "code",
   "execution_count": 146,
   "metadata": {},
   "outputs": [
    {
     "data": {
      "text/plain": [
       "RandomForestRegressor(bootstrap=True, criterion='mse', max_depth=4,\n",
       "                      max_features='auto', max_leaf_nodes=None,\n",
       "                      min_impurity_decrease=0.0, min_impurity_split=None,\n",
       "                      min_samples_leaf=1, min_samples_split=2,\n",
       "                      min_weight_fraction_leaf=0.0, n_estimators=50, n_jobs=1,\n",
       "                      oob_score=False, random_state=0, verbose=0,\n",
       "                      warm_start=False)"
      ]
     },
     "execution_count": 146,
     "metadata": {},
     "output_type": "execute_result"
    }
   ],
   "source": [
    "rf.fit(x_train,y_train)"
   ]
  },
  {
   "cell_type": "code",
   "execution_count": 147,
   "metadata": {},
   "outputs": [],
   "source": [
    "test_score = rf.predict(test)"
   ]
  },
  {
   "cell_type": "code",
   "execution_count": 148,
   "metadata": {},
   "outputs": [
    {
     "data": {
      "text/plain": [
       "array([1616.48405032, 3997.14980618, 1751.63659549, ..., 2950.41913849,\n",
       "       3997.14980618, 3976.92011696])"
      ]
     },
     "execution_count": 148,
     "metadata": {},
     "output_type": "execute_result"
    }
   ],
   "source": [
    "test_score"
   ]
  },
  {
   "cell_type": "code",
   "execution_count": 118,
   "metadata": {},
   "outputs": [],
   "source": [
    "test3 = pd.read_csv(file2)"
   ]
  },
  {
   "cell_type": "code",
   "execution_count": 119,
   "metadata": {},
   "outputs": [],
   "source": [
    "mid = test3['Medicine_ID']"
   ]
  },
  {
   "cell_type": "code",
   "execution_count": 120,
   "metadata": {},
   "outputs": [],
   "source": [
    "mid = pd.DataFrame(mid)"
   ]
  },
  {
   "cell_type": "code",
   "execution_count": 121,
   "metadata": {},
   "outputs": [],
   "source": [
    "Target = pd.DataFrame(test_score)"
   ]
  },
  {
   "cell_type": "code",
   "execution_count": 122,
   "metadata": {},
   "outputs": [],
   "source": [
    "Target = Target.rename(columns={0:'Counterfeit_Sales'})"
   ]
  },
  {
   "cell_type": "code",
   "execution_count": 123,
   "metadata": {},
   "outputs": [],
   "source": [
    "Final_Values = pd.concat([mid,Target],axis=1)"
   ]
  },
  {
   "cell_type": "code",
   "execution_count": 124,
   "metadata": {},
   "outputs": [
    {
     "data": {
      "text/html": [
       "<div>\n",
       "<style scoped>\n",
       "    .dataframe tbody tr th:only-of-type {\n",
       "        vertical-align: middle;\n",
       "    }\n",
       "\n",
       "    .dataframe tbody tr th {\n",
       "        vertical-align: top;\n",
       "    }\n",
       "\n",
       "    .dataframe thead th {\n",
       "        text-align: right;\n",
       "    }\n",
       "</style>\n",
       "<table border=\"1\" class=\"dataframe\">\n",
       "  <thead>\n",
       "    <tr style=\"text-align: right;\">\n",
       "      <th></th>\n",
       "      <th>Medicine_ID</th>\n",
       "      <th>Counterfeit_Sales</th>\n",
       "    </tr>\n",
       "  </thead>\n",
       "  <tbody>\n",
       "    <tr>\n",
       "      <td>0</td>\n",
       "      <td>HLZ81</td>\n",
       "      <td>1616.484050</td>\n",
       "    </tr>\n",
       "    <tr>\n",
       "      <td>1</td>\n",
       "      <td>ECE94</td>\n",
       "      <td>3997.149806</td>\n",
       "    </tr>\n",
       "    <tr>\n",
       "      <td>2</td>\n",
       "      <td>SAD14</td>\n",
       "      <td>1751.636595</td>\n",
       "    </tr>\n",
       "    <tr>\n",
       "      <td>3</td>\n",
       "      <td>EQV63</td>\n",
       "      <td>382.329035</td>\n",
       "    </tr>\n",
       "    <tr>\n",
       "      <td>4</td>\n",
       "      <td>AIR10</td>\n",
       "      <td>374.012530</td>\n",
       "    </tr>\n",
       "    <tr>\n",
       "      <td>...</td>\n",
       "      <td>...</td>\n",
       "      <td>...</td>\n",
       "    </tr>\n",
       "    <tr>\n",
       "      <td>1700</td>\n",
       "      <td>KXW10</td>\n",
       "      <td>3101.551928</td>\n",
       "    </tr>\n",
       "    <tr>\n",
       "      <td>1701</td>\n",
       "      <td>CKE54</td>\n",
       "      <td>894.234016</td>\n",
       "    </tr>\n",
       "    <tr>\n",
       "      <td>1702</td>\n",
       "      <td>HAY13</td>\n",
       "      <td>2950.419138</td>\n",
       "    </tr>\n",
       "    <tr>\n",
       "      <td>1703</td>\n",
       "      <td>ZEE32</td>\n",
       "      <td>3997.149806</td>\n",
       "    </tr>\n",
       "    <tr>\n",
       "      <td>1704</td>\n",
       "      <td>NDL93</td>\n",
       "      <td>3976.920117</td>\n",
       "    </tr>\n",
       "  </tbody>\n",
       "</table>\n",
       "<p>1705 rows × 2 columns</p>\n",
       "</div>"
      ],
      "text/plain": [
       "     Medicine_ID  Counterfeit_Sales\n",
       "0          HLZ81        1616.484050\n",
       "1          ECE94        3997.149806\n",
       "2          SAD14        1751.636595\n",
       "3          EQV63         382.329035\n",
       "4          AIR10         374.012530\n",
       "...          ...                ...\n",
       "1700       KXW10        3101.551928\n",
       "1701       CKE54         894.234016\n",
       "1702       HAY13        2950.419138\n",
       "1703       ZEE32        3997.149806\n",
       "1704       NDL93        3976.920117\n",
       "\n",
       "[1705 rows x 2 columns]"
      ]
     },
     "execution_count": 124,
     "metadata": {},
     "output_type": "execute_result"
    }
   ],
   "source": [
    "Final_Values"
   ]
  },
  {
   "cell_type": "code",
   "execution_count": 136,
   "metadata": {},
   "outputs": [],
   "source": [
    "pd.DataFrame(Final_Values).to_csv(\"Nitesh_Bhosle_P3_p2.csv\",index=False)"
   ]
  },
  {
   "cell_type": "code",
   "execution_count": null,
   "metadata": {},
   "outputs": [],
   "source": []
  },
  {
   "cell_type": "code",
   "execution_count": null,
   "metadata": {},
   "outputs": [],
   "source": []
  },
  {
   "cell_type": "code",
   "execution_count": null,
   "metadata": {},
   "outputs": [],
   "source": []
  }
 ],
 "metadata": {
  "kernelspec": {
   "display_name": "Python 3",
   "language": "python",
   "name": "python3"
  },
  "language_info": {
   "codemirror_mode": {
    "name": "ipython",
    "version": 3
   },
   "file_extension": ".py",
   "mimetype": "text/x-python",
   "name": "python",
   "nbconvert_exporter": "python",
   "pygments_lexer": "ipython3",
   "version": "3.7.4"
  }
 },
 "nbformat": 4,
 "nbformat_minor": 2
}
